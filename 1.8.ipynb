{
 "cells": [
  {
   "cell_type": "markdown",
   "metadata": {},
   "source": [
    "## Deep Learning fundamentals"
   ]
  },
  {
   "cell_type": "code",
   "execution_count": 1,
   "metadata": {},
   "outputs": [],
   "source": [
    "import numpy as np\n",
    "import pandas as pd"
   ]
  },
  {
   "cell_type": "code",
   "execution_count": 2,
   "metadata": {},
   "outputs": [
    {
     "data": {
      "text/html": [
       "<div>\n",
       "<style scoped>\n",
       "    .dataframe tbody tr th:only-of-type {\n",
       "        vertical-align: middle;\n",
       "    }\n",
       "\n",
       "    .dataframe tbody tr th {\n",
       "        vertical-align: top;\n",
       "    }\n",
       "\n",
       "    .dataframe thead th {\n",
       "        text-align: right;\n",
       "    }\n",
       "</style>\n",
       "<table border=\"1\" class=\"dataframe\">\n",
       "  <thead>\n",
       "    <tr style=\"text-align: right;\">\n",
       "      <th></th>\n",
       "      <th>0</th>\n",
       "      <th>1</th>\n",
       "      <th>2</th>\n",
       "      <th>3</th>\n",
       "      <th>4</th>\n",
       "      <th>5</th>\n",
       "      <th>6</th>\n",
       "      <th>7</th>\n",
       "      <th>8</th>\n",
       "    </tr>\n",
       "  </thead>\n",
       "  <tbody>\n",
       "    <tr>\n",
       "      <td>0</td>\n",
       "      <td>-1</td>\n",
       "      <td>-0.294118</td>\n",
       "      <td>0.487437</td>\n",
       "      <td>0.180328</td>\n",
       "      <td>-0.292929</td>\n",
       "      <td>-1.000000</td>\n",
       "      <td>0.001490</td>\n",
       "      <td>-0.531170</td>\n",
       "      <td>-0.033333</td>\n",
       "    </tr>\n",
       "    <tr>\n",
       "      <td>1</td>\n",
       "      <td>1</td>\n",
       "      <td>-0.882353</td>\n",
       "      <td>-0.145729</td>\n",
       "      <td>0.081967</td>\n",
       "      <td>-0.414141</td>\n",
       "      <td>-1.000000</td>\n",
       "      <td>-0.207153</td>\n",
       "      <td>-0.766866</td>\n",
       "      <td>-0.666667</td>\n",
       "    </tr>\n",
       "    <tr>\n",
       "      <td>2</td>\n",
       "      <td>-1</td>\n",
       "      <td>-0.058824</td>\n",
       "      <td>0.839196</td>\n",
       "      <td>0.049180</td>\n",
       "      <td>-1.000000</td>\n",
       "      <td>-1.000000</td>\n",
       "      <td>-0.305514</td>\n",
       "      <td>-0.492741</td>\n",
       "      <td>-0.633333</td>\n",
       "    </tr>\n",
       "    <tr>\n",
       "      <td>3</td>\n",
       "      <td>1</td>\n",
       "      <td>-0.882353</td>\n",
       "      <td>-0.105528</td>\n",
       "      <td>0.081967</td>\n",
       "      <td>-0.535354</td>\n",
       "      <td>-0.777778</td>\n",
       "      <td>-0.162444</td>\n",
       "      <td>-0.923997</td>\n",
       "      <td>-1.000000</td>\n",
       "    </tr>\n",
       "    <tr>\n",
       "      <td>4</td>\n",
       "      <td>-1</td>\n",
       "      <td>-1.000000</td>\n",
       "      <td>0.376884</td>\n",
       "      <td>-0.344262</td>\n",
       "      <td>-0.292929</td>\n",
       "      <td>-0.602837</td>\n",
       "      <td>0.284650</td>\n",
       "      <td>0.887276</td>\n",
       "      <td>-0.600000</td>\n",
       "    </tr>\n",
       "    <tr>\n",
       "      <td>...</td>\n",
       "      <td>...</td>\n",
       "      <td>...</td>\n",
       "      <td>...</td>\n",
       "      <td>...</td>\n",
       "      <td>...</td>\n",
       "      <td>...</td>\n",
       "      <td>...</td>\n",
       "      <td>...</td>\n",
       "      <td>...</td>\n",
       "    </tr>\n",
       "    <tr>\n",
       "      <td>763</td>\n",
       "      <td>1</td>\n",
       "      <td>0.176471</td>\n",
       "      <td>0.015075</td>\n",
       "      <td>0.245902</td>\n",
       "      <td>-0.030303</td>\n",
       "      <td>-0.574468</td>\n",
       "      <td>-0.019374</td>\n",
       "      <td>-0.920581</td>\n",
       "      <td>0.400000</td>\n",
       "    </tr>\n",
       "    <tr>\n",
       "      <td>764</td>\n",
       "      <td>1</td>\n",
       "      <td>-0.764706</td>\n",
       "      <td>0.226131</td>\n",
       "      <td>0.147541</td>\n",
       "      <td>-0.454545</td>\n",
       "      <td>-1.000000</td>\n",
       "      <td>0.096870</td>\n",
       "      <td>-0.776260</td>\n",
       "      <td>-0.800000</td>\n",
       "    </tr>\n",
       "    <tr>\n",
       "      <td>765</td>\n",
       "      <td>1</td>\n",
       "      <td>-0.411765</td>\n",
       "      <td>0.216080</td>\n",
       "      <td>0.180328</td>\n",
       "      <td>-0.535354</td>\n",
       "      <td>-0.735225</td>\n",
       "      <td>-0.219076</td>\n",
       "      <td>-0.857387</td>\n",
       "      <td>-0.700000</td>\n",
       "    </tr>\n",
       "    <tr>\n",
       "      <td>766</td>\n",
       "      <td>-1</td>\n",
       "      <td>-0.882353</td>\n",
       "      <td>0.266332</td>\n",
       "      <td>-0.016393</td>\n",
       "      <td>-1.000000</td>\n",
       "      <td>-1.000000</td>\n",
       "      <td>-0.102832</td>\n",
       "      <td>-0.768574</td>\n",
       "      <td>-0.133333</td>\n",
       "    </tr>\n",
       "    <tr>\n",
       "      <td>767</td>\n",
       "      <td>1</td>\n",
       "      <td>-0.882353</td>\n",
       "      <td>-0.065327</td>\n",
       "      <td>0.147541</td>\n",
       "      <td>-0.373737</td>\n",
       "      <td>-1.000000</td>\n",
       "      <td>-0.093890</td>\n",
       "      <td>-0.797609</td>\n",
       "      <td>-0.933333</td>\n",
       "    </tr>\n",
       "  </tbody>\n",
       "</table>\n",
       "<p>768 rows × 9 columns</p>\n",
       "</div>"
      ],
      "text/plain": [
       "     0         1         2         3         4         5         6         7  \\\n",
       "0   -1 -0.294118  0.487437  0.180328 -0.292929 -1.000000  0.001490 -0.531170   \n",
       "1    1 -0.882353 -0.145729  0.081967 -0.414141 -1.000000 -0.207153 -0.766866   \n",
       "2   -1 -0.058824  0.839196  0.049180 -1.000000 -1.000000 -0.305514 -0.492741   \n",
       "3    1 -0.882353 -0.105528  0.081967 -0.535354 -0.777778 -0.162444 -0.923997   \n",
       "4   -1 -1.000000  0.376884 -0.344262 -0.292929 -0.602837  0.284650  0.887276   \n",
       "..  ..       ...       ...       ...       ...       ...       ...       ...   \n",
       "763  1  0.176471  0.015075  0.245902 -0.030303 -0.574468 -0.019374 -0.920581   \n",
       "764  1 -0.764706  0.226131  0.147541 -0.454545 -1.000000  0.096870 -0.776260   \n",
       "765  1 -0.411765  0.216080  0.180328 -0.535354 -0.735225 -0.219076 -0.857387   \n",
       "766 -1 -0.882353  0.266332 -0.016393 -1.000000 -1.000000 -0.102832 -0.768574   \n",
       "767  1 -0.882353 -0.065327  0.147541 -0.373737 -1.000000 -0.093890 -0.797609   \n",
       "\n",
       "            8  \n",
       "0   -0.033333  \n",
       "1   -0.666667  \n",
       "2   -0.633333  \n",
       "3   -1.000000  \n",
       "4   -0.600000  \n",
       "..        ...  \n",
       "763  0.400000  \n",
       "764 -0.800000  \n",
       "765 -0.700000  \n",
       "766 -0.133333  \n",
       "767 -0.933333  \n",
       "\n",
       "[768 rows x 9 columns]"
      ]
     },
     "execution_count": 2,
     "metadata": {},
     "output_type": "execute_result"
    }
   ],
   "source": [
    "df = pd.read_csv('diabetes_scale.csv', delimiter = '1:|2:|3:|4:|5:|6:|7:|8:', header = None, engine='python')\n",
    "df"
   ]
  },
  {
   "cell_type": "code",
   "execution_count": 3,
   "metadata": {},
   "outputs": [
    {
     "data": {
      "text/plain": [
       " 1    500\n",
       "-1    268\n",
       "Name: 0, dtype: int64"
      ]
     },
     "execution_count": 3,
     "metadata": {},
     "output_type": "execute_result"
    }
   ],
   "source": [
    "df.iloc[:,0].value_counts()"
   ]
  },
  {
   "cell_type": "code",
   "execution_count": 4,
   "metadata": {},
   "outputs": [],
   "source": [
    "df = df.rename( columns= {0:'Outcome', 1:'Preganacies', 2:'Glucose', 3:'BloodPressure', 4:'SkinThickness',5:'Insulin',\n",
    "                    6:'BMI', 7:'DiabetesPedFunc', 8:'Age'})"
   ]
  },
  {
   "cell_type": "code",
   "execution_count": 5,
   "metadata": {
    "scrolled": true
   },
   "outputs": [
    {
     "data": {
      "text/html": [
       "<div>\n",
       "<style scoped>\n",
       "    .dataframe tbody tr th:only-of-type {\n",
       "        vertical-align: middle;\n",
       "    }\n",
       "\n",
       "    .dataframe tbody tr th {\n",
       "        vertical-align: top;\n",
       "    }\n",
       "\n",
       "    .dataframe thead th {\n",
       "        text-align: right;\n",
       "    }\n",
       "</style>\n",
       "<table border=\"1\" class=\"dataframe\">\n",
       "  <thead>\n",
       "    <tr style=\"text-align: right;\">\n",
       "      <th></th>\n",
       "      <th>Outcome</th>\n",
       "      <th>Preganacies</th>\n",
       "      <th>Glucose</th>\n",
       "      <th>BloodPressure</th>\n",
       "      <th>SkinThickness</th>\n",
       "      <th>Insulin</th>\n",
       "      <th>BMI</th>\n",
       "      <th>DiabetesPedFunc</th>\n",
       "      <th>Age</th>\n",
       "    </tr>\n",
       "  </thead>\n",
       "  <tbody>\n",
       "    <tr>\n",
       "      <td>count</td>\n",
       "      <td>768.000000</td>\n",
       "      <td>768.000000</td>\n",
       "      <td>768.000000</td>\n",
       "      <td>768.000000</td>\n",
       "      <td>768.000000</td>\n",
       "      <td>768.000000</td>\n",
       "      <td>768.000000</td>\n",
       "      <td>768.000000</td>\n",
       "      <td>759.000000</td>\n",
       "    </tr>\n",
       "    <tr>\n",
       "      <td>mean</td>\n",
       "      <td>0.302083</td>\n",
       "      <td>-0.547641</td>\n",
       "      <td>0.215020</td>\n",
       "      <td>0.131574</td>\n",
       "      <td>-0.585122</td>\n",
       "      <td>-0.810410</td>\n",
       "      <td>-0.047279</td>\n",
       "      <td>-0.662247</td>\n",
       "      <td>-0.599166</td>\n",
       "    </tr>\n",
       "    <tr>\n",
       "      <td>std</td>\n",
       "      <td>0.953903</td>\n",
       "      <td>0.396421</td>\n",
       "      <td>0.321333</td>\n",
       "      <td>0.319896</td>\n",
       "      <td>0.322267</td>\n",
       "      <td>0.273036</td>\n",
       "      <td>0.237041</td>\n",
       "      <td>0.284229</td>\n",
       "      <td>0.388652</td>\n",
       "    </tr>\n",
       "    <tr>\n",
       "      <td>min</td>\n",
       "      <td>-1.000000</td>\n",
       "      <td>-1.000000</td>\n",
       "      <td>-1.000000</td>\n",
       "      <td>-1.000000</td>\n",
       "      <td>-1.000000</td>\n",
       "      <td>-1.000000</td>\n",
       "      <td>-1.000000</td>\n",
       "      <td>-1.000000</td>\n",
       "      <td>-1.000000</td>\n",
       "    </tr>\n",
       "    <tr>\n",
       "      <td>25%</td>\n",
       "      <td>-1.000000</td>\n",
       "      <td>-0.882353</td>\n",
       "      <td>-0.005025</td>\n",
       "      <td>0.016393</td>\n",
       "      <td>-1.000000</td>\n",
       "      <td>-1.000000</td>\n",
       "      <td>-0.186289</td>\n",
       "      <td>-0.858241</td>\n",
       "      <td>-0.900000</td>\n",
       "    </tr>\n",
       "    <tr>\n",
       "      <td>50%</td>\n",
       "      <td>1.000000</td>\n",
       "      <td>-0.647059</td>\n",
       "      <td>0.175879</td>\n",
       "      <td>0.180328</td>\n",
       "      <td>-0.535354</td>\n",
       "      <td>-0.919622</td>\n",
       "      <td>-0.046200</td>\n",
       "      <td>-0.746798</td>\n",
       "      <td>-0.733333</td>\n",
       "    </tr>\n",
       "    <tr>\n",
       "      <td>75%</td>\n",
       "      <td>1.000000</td>\n",
       "      <td>-0.294118</td>\n",
       "      <td>0.409547</td>\n",
       "      <td>0.311475</td>\n",
       "      <td>-0.353535</td>\n",
       "      <td>-0.696809</td>\n",
       "      <td>0.090909</td>\n",
       "      <td>-0.530743</td>\n",
       "      <td>-0.366667</td>\n",
       "    </tr>\n",
       "    <tr>\n",
       "      <td>max</td>\n",
       "      <td>1.000000</td>\n",
       "      <td>1.000000</td>\n",
       "      <td>1.000000</td>\n",
       "      <td>1.000000</td>\n",
       "      <td>1.000000</td>\n",
       "      <td>1.000000</td>\n",
       "      <td>1.000000</td>\n",
       "      <td>1.000000</td>\n",
       "      <td>1.000000</td>\n",
       "    </tr>\n",
       "  </tbody>\n",
       "</table>\n",
       "</div>"
      ],
      "text/plain": [
       "          Outcome  Preganacies     Glucose  BloodPressure  SkinThickness  \\\n",
       "count  768.000000   768.000000  768.000000     768.000000     768.000000   \n",
       "mean     0.302083    -0.547641    0.215020       0.131574      -0.585122   \n",
       "std      0.953903     0.396421    0.321333       0.319896       0.322267   \n",
       "min     -1.000000    -1.000000   -1.000000      -1.000000      -1.000000   \n",
       "25%     -1.000000    -0.882353   -0.005025       0.016393      -1.000000   \n",
       "50%      1.000000    -0.647059    0.175879       0.180328      -0.535354   \n",
       "75%      1.000000    -0.294118    0.409547       0.311475      -0.353535   \n",
       "max      1.000000     1.000000    1.000000       1.000000       1.000000   \n",
       "\n",
       "          Insulin         BMI  DiabetesPedFunc         Age  \n",
       "count  768.000000  768.000000       768.000000  759.000000  \n",
       "mean    -0.810410   -0.047279        -0.662247   -0.599166  \n",
       "std      0.273036    0.237041         0.284229    0.388652  \n",
       "min     -1.000000   -1.000000        -1.000000   -1.000000  \n",
       "25%     -1.000000   -0.186289        -0.858241   -0.900000  \n",
       "50%     -0.919622   -0.046200        -0.746798   -0.733333  \n",
       "75%     -0.696809    0.090909        -0.530743   -0.366667  \n",
       "max      1.000000    1.000000         1.000000    1.000000  "
      ]
     },
     "execution_count": 5,
     "metadata": {},
     "output_type": "execute_result"
    }
   ],
   "source": [
    "# See basic statistical details\n",
    "df.describe()"
   ]
  },
  {
   "cell_type": "code",
   "execution_count": 6,
   "metadata": {},
   "outputs": [
    {
     "data": {
      "text/plain": [
       "Outcome            0\n",
       "Preganacies        0\n",
       "Glucose            0\n",
       "BloodPressure      0\n",
       "SkinThickness      0\n",
       "Insulin            0\n",
       "BMI                0\n",
       "DiabetesPedFunc    0\n",
       "Age                9\n",
       "dtype: int64"
      ]
     },
     "execution_count": 6,
     "metadata": {},
     "output_type": "execute_result"
    }
   ],
   "source": [
    "df.isnull().sum()"
   ]
  },
  {
   "cell_type": "code",
   "execution_count": 7,
   "metadata": {},
   "outputs": [
    {
     "data": {
      "text/html": [
       "<div>\n",
       "<style scoped>\n",
       "    .dataframe tbody tr th:only-of-type {\n",
       "        vertical-align: middle;\n",
       "    }\n",
       "\n",
       "    .dataframe tbody tr th {\n",
       "        vertical-align: top;\n",
       "    }\n",
       "\n",
       "    .dataframe thead th {\n",
       "        text-align: right;\n",
       "    }\n",
       "</style>\n",
       "<table border=\"1\" class=\"dataframe\">\n",
       "  <thead>\n",
       "    <tr style=\"text-align: right;\">\n",
       "      <th></th>\n",
       "      <th>Outcome</th>\n",
       "      <th>Preganacies</th>\n",
       "      <th>Glucose</th>\n",
       "      <th>BloodPressure</th>\n",
       "      <th>SkinThickness</th>\n",
       "      <th>Insulin</th>\n",
       "      <th>BMI</th>\n",
       "      <th>DiabetesPedFunc</th>\n",
       "      <th>Age</th>\n",
       "    </tr>\n",
       "  </thead>\n",
       "  <tbody>\n",
       "    <tr>\n",
       "      <td>0</td>\n",
       "      <td>-1</td>\n",
       "      <td>-0.294118</td>\n",
       "      <td>0.487437</td>\n",
       "      <td>0.180328</td>\n",
       "      <td>-0.292929</td>\n",
       "      <td>-1.000000</td>\n",
       "      <td>0.001490</td>\n",
       "      <td>-0.531170</td>\n",
       "      <td>-0.033333</td>\n",
       "    </tr>\n",
       "    <tr>\n",
       "      <td>1</td>\n",
       "      <td>1</td>\n",
       "      <td>-0.882353</td>\n",
       "      <td>-0.145729</td>\n",
       "      <td>0.081967</td>\n",
       "      <td>-0.414141</td>\n",
       "      <td>-1.000000</td>\n",
       "      <td>-0.207153</td>\n",
       "      <td>-0.766866</td>\n",
       "      <td>-0.666667</td>\n",
       "    </tr>\n",
       "    <tr>\n",
       "      <td>2</td>\n",
       "      <td>-1</td>\n",
       "      <td>-0.058824</td>\n",
       "      <td>0.839196</td>\n",
       "      <td>0.049180</td>\n",
       "      <td>-1.000000</td>\n",
       "      <td>-1.000000</td>\n",
       "      <td>-0.305514</td>\n",
       "      <td>-0.492741</td>\n",
       "      <td>-0.633333</td>\n",
       "    </tr>\n",
       "    <tr>\n",
       "      <td>3</td>\n",
       "      <td>1</td>\n",
       "      <td>-0.882353</td>\n",
       "      <td>-0.105528</td>\n",
       "      <td>0.081967</td>\n",
       "      <td>-0.535354</td>\n",
       "      <td>-0.777778</td>\n",
       "      <td>-0.162444</td>\n",
       "      <td>-0.923997</td>\n",
       "      <td>-1.000000</td>\n",
       "    </tr>\n",
       "    <tr>\n",
       "      <td>4</td>\n",
       "      <td>-1</td>\n",
       "      <td>-1.000000</td>\n",
       "      <td>0.376884</td>\n",
       "      <td>-0.344262</td>\n",
       "      <td>-0.292929</td>\n",
       "      <td>-0.602837</td>\n",
       "      <td>0.284650</td>\n",
       "      <td>0.887276</td>\n",
       "      <td>-0.600000</td>\n",
       "    </tr>\n",
       "    <tr>\n",
       "      <td>...</td>\n",
       "      <td>...</td>\n",
       "      <td>...</td>\n",
       "      <td>...</td>\n",
       "      <td>...</td>\n",
       "      <td>...</td>\n",
       "      <td>...</td>\n",
       "      <td>...</td>\n",
       "      <td>...</td>\n",
       "      <td>...</td>\n",
       "    </tr>\n",
       "    <tr>\n",
       "      <td>763</td>\n",
       "      <td>1</td>\n",
       "      <td>0.176471</td>\n",
       "      <td>0.015075</td>\n",
       "      <td>0.245902</td>\n",
       "      <td>-0.030303</td>\n",
       "      <td>-0.574468</td>\n",
       "      <td>-0.019374</td>\n",
       "      <td>-0.920581</td>\n",
       "      <td>0.400000</td>\n",
       "    </tr>\n",
       "    <tr>\n",
       "      <td>764</td>\n",
       "      <td>1</td>\n",
       "      <td>-0.764706</td>\n",
       "      <td>0.226131</td>\n",
       "      <td>0.147541</td>\n",
       "      <td>-0.454545</td>\n",
       "      <td>-1.000000</td>\n",
       "      <td>0.096870</td>\n",
       "      <td>-0.776260</td>\n",
       "      <td>-0.800000</td>\n",
       "    </tr>\n",
       "    <tr>\n",
       "      <td>765</td>\n",
       "      <td>1</td>\n",
       "      <td>-0.411765</td>\n",
       "      <td>0.216080</td>\n",
       "      <td>0.180328</td>\n",
       "      <td>-0.535354</td>\n",
       "      <td>-0.735225</td>\n",
       "      <td>-0.219076</td>\n",
       "      <td>-0.857387</td>\n",
       "      <td>-0.700000</td>\n",
       "    </tr>\n",
       "    <tr>\n",
       "      <td>766</td>\n",
       "      <td>-1</td>\n",
       "      <td>-0.882353</td>\n",
       "      <td>0.266332</td>\n",
       "      <td>-0.016393</td>\n",
       "      <td>-1.000000</td>\n",
       "      <td>-1.000000</td>\n",
       "      <td>-0.102832</td>\n",
       "      <td>-0.768574</td>\n",
       "      <td>-0.133333</td>\n",
       "    </tr>\n",
       "    <tr>\n",
       "      <td>767</td>\n",
       "      <td>1</td>\n",
       "      <td>-0.882353</td>\n",
       "      <td>-0.065327</td>\n",
       "      <td>0.147541</td>\n",
       "      <td>-0.373737</td>\n",
       "      <td>-1.000000</td>\n",
       "      <td>-0.093890</td>\n",
       "      <td>-0.797609</td>\n",
       "      <td>-0.933333</td>\n",
       "    </tr>\n",
       "  </tbody>\n",
       "</table>\n",
       "<p>759 rows × 9 columns</p>\n",
       "</div>"
      ],
      "text/plain": [
       "     Outcome  Preganacies   Glucose  BloodPressure  SkinThickness   Insulin  \\\n",
       "0         -1    -0.294118  0.487437       0.180328      -0.292929 -1.000000   \n",
       "1          1    -0.882353 -0.145729       0.081967      -0.414141 -1.000000   \n",
       "2         -1    -0.058824  0.839196       0.049180      -1.000000 -1.000000   \n",
       "3          1    -0.882353 -0.105528       0.081967      -0.535354 -0.777778   \n",
       "4         -1    -1.000000  0.376884      -0.344262      -0.292929 -0.602837   \n",
       "..       ...          ...       ...            ...            ...       ...   \n",
       "763        1     0.176471  0.015075       0.245902      -0.030303 -0.574468   \n",
       "764        1    -0.764706  0.226131       0.147541      -0.454545 -1.000000   \n",
       "765        1    -0.411765  0.216080       0.180328      -0.535354 -0.735225   \n",
       "766       -1    -0.882353  0.266332      -0.016393      -1.000000 -1.000000   \n",
       "767        1    -0.882353 -0.065327       0.147541      -0.373737 -1.000000   \n",
       "\n",
       "          BMI  DiabetesPedFunc       Age  \n",
       "0    0.001490        -0.531170 -0.033333  \n",
       "1   -0.207153        -0.766866 -0.666667  \n",
       "2   -0.305514        -0.492741 -0.633333  \n",
       "3   -0.162444        -0.923997 -1.000000  \n",
       "4    0.284650         0.887276 -0.600000  \n",
       "..        ...              ...       ...  \n",
       "763 -0.019374        -0.920581  0.400000  \n",
       "764  0.096870        -0.776260 -0.800000  \n",
       "765 -0.219076        -0.857387 -0.700000  \n",
       "766 -0.102832        -0.768574 -0.133333  \n",
       "767 -0.093890        -0.797609 -0.933333  \n",
       "\n",
       "[759 rows x 9 columns]"
      ]
     },
     "execution_count": 7,
     "metadata": {},
     "output_type": "execute_result"
    }
   ],
   "source": [
    "df= df.dropna()\n",
    "df"
   ]
  },
  {
   "cell_type": "code",
   "execution_count": 8,
   "metadata": {},
   "outputs": [
    {
     "data": {
      "text/plain": [
       " 1    496\n",
       "-1    263\n",
       "Name: Outcome, dtype: int64"
      ]
     },
     "execution_count": 8,
     "metadata": {},
     "output_type": "execute_result"
    }
   ],
   "source": [
    "df.iloc[:,0].value_counts()"
   ]
  },
  {
   "cell_type": "code",
   "execution_count": 9,
   "metadata": {},
   "outputs": [],
   "source": [
    "y = pd.DataFrame(df.iloc[:,0])\n",
    "x = df.iloc[:,1:]\n",
    "x = x.to_numpy()\n",
    "y = y.to_numpy()"
   ]
  },
  {
   "cell_type": "code",
   "execution_count": 10,
   "metadata": {},
   "outputs": [],
   "source": [
    "from random import seed\n",
    "from sklearn.model_selection import train_test_split"
   ]
  },
  {
   "cell_type": "code",
   "execution_count": 11,
   "metadata": {},
   "outputs": [],
   "source": [
    "# Split dataset 80:20\n",
    "x_train, x_test, y_train, y_test = train_test_split(x,y, test_size=0.2, random_state=20)"
   ]
  },
  {
   "cell_type": "code",
   "execution_count": 12,
   "metadata": {},
   "outputs": [
    {
     "data": {
      "text/plain": [
       "array([[ 0.88389311],\n",
       "       [ 0.19586502],\n",
       "       [ 0.35753652],\n",
       "       [-2.34326191],\n",
       "       [-1.08483259],\n",
       "       [ 0.55969629],\n",
       "       [ 0.93946935],\n",
       "       [-0.97848104],\n",
       "       [ 0.50309684]])"
      ]
     },
     "execution_count": 12,
     "metadata": {},
     "output_type": "execute_result"
    }
   ],
   "source": [
    "np.random.seed(20)\n",
    "w = np.random.randn(9,1)* np.sqrt(1/1)\n",
    "w"
   ]
  },
  {
   "cell_type": "code",
   "execution_count": 13,
   "metadata": {},
   "outputs": [],
   "source": [
    "# predicts output given the rows and weights\n",
    "def pred(row,w):\n",
    "    # The first weight is always the bias\n",
    "    atv = w[0]\n",
    "    for i in range(len(row)):\n",
    "        atv = atv + w[i+1]*row[i]\n",
    "    return 1 if atv>=0 else -1"
   ]
  },
  {
   "cell_type": "code",
   "execution_count": 14,
   "metadata": {},
   "outputs": [],
   "source": [
    "e = []\n",
    "ss= []\n",
    "def train(x_train, lrrate, epochs):\n",
    "    for ep in range(epochs):\n",
    "        global e \n",
    "        global ss \n",
    "        sum_square_error = 0\n",
    "        for row, row1 in zip(x_train,y_train):\n",
    "            prediction = pred(row,w)\n",
    "            error = row1 - prediction\n",
    "            w[0] = w[0] + lrrate*error\n",
    "            sum_square_error = sum_square_error + ((error/2)**2)\n",
    "            for i in range(len(row)):\n",
    "                w[i+1]=w[i+1]+ lrrate*error*row[i]\n",
    "        print('Epoch : {}'.format(ep),'\\tError : {}'.format(sum_square_error))\n",
    "        e.append(ep)\n",
    "        ss.append(sum_square_error)\n",
    "    return w"
   ]
  },
  {
   "cell_type": "code",
   "execution_count": 15,
   "metadata": {},
   "outputs": [],
   "source": [
    "def perceptron(x_train, x_test, lrrate, epochs):\n",
    "    weights=train(x_train, lrrate, epochs)\n",
    "    pred1 = list()\n",
    "    for row in x_test:\n",
    "        predict = pred(row,weights)\n",
    "        pred1.append(predict)\n",
    "    return pred1"
   ]
  },
  {
   "cell_type": "code",
   "execution_count": 16,
   "metadata": {},
   "outputs": [],
   "source": [
    "lrrate = 0.01\n",
    "epochs = 100"
   ]
  },
  {
   "cell_type": "code",
   "execution_count": 17,
   "metadata": {
    "scrolled": true
   },
   "outputs": [
    {
     "name": "stdout",
     "output_type": "stream",
     "text": [
      "Epoch : 0 \tError : [247.]\n",
      "Epoch : 1 \tError : [211.]\n",
      "Epoch : 2 \tError : [190.]\n",
      "Epoch : 3 \tError : [176.]\n",
      "Epoch : 4 \tError : [172.]\n",
      "Epoch : 5 \tError : [164.]\n",
      "Epoch : 6 \tError : [182.]\n",
      "Epoch : 7 \tError : [182.]\n",
      "Epoch : 8 \tError : [194.]\n",
      "Epoch : 9 \tError : [192.]\n",
      "Epoch : 10 \tError : [192.]\n",
      "Epoch : 11 \tError : [184.]\n",
      "Epoch : 12 \tError : [192.]\n",
      "Epoch : 13 \tError : [177.]\n",
      "Epoch : 14 \tError : [184.]\n",
      "Epoch : 15 \tError : [188.]\n",
      "Epoch : 16 \tError : [185.]\n",
      "Epoch : 17 \tError : [190.]\n",
      "Epoch : 18 \tError : [190.]\n",
      "Epoch : 19 \tError : [192.]\n",
      "Epoch : 20 \tError : [182.]\n",
      "Epoch : 21 \tError : [194.]\n",
      "Epoch : 22 \tError : [180.]\n",
      "Epoch : 23 \tError : [188.]\n",
      "Epoch : 24 \tError : [196.]\n",
      "Epoch : 25 \tError : [192.]\n",
      "Epoch : 26 \tError : [188.]\n",
      "Epoch : 27 \tError : [182.]\n",
      "Epoch : 28 \tError : [190.]\n",
      "Epoch : 29 \tError : [186.]\n",
      "Epoch : 30 \tError : [180.]\n",
      "Epoch : 31 \tError : [188.]\n",
      "Epoch : 32 \tError : [188.]\n",
      "Epoch : 33 \tError : [175.]\n",
      "Epoch : 34 \tError : [193.]\n",
      "Epoch : 35 \tError : [181.]\n",
      "Epoch : 36 \tError : [198.]\n",
      "Epoch : 37 \tError : [189.]\n",
      "Epoch : 38 \tError : [176.]\n",
      "Epoch : 39 \tError : [198.]\n",
      "Epoch : 40 \tError : [194.]\n",
      "Epoch : 41 \tError : [188.]\n",
      "Epoch : 42 \tError : [186.]\n",
      "Epoch : 43 \tError : [184.]\n",
      "Epoch : 44 \tError : [188.]\n",
      "Epoch : 45 \tError : [184.]\n",
      "Epoch : 46 \tError : [194.]\n",
      "Epoch : 47 \tError : [178.]\n",
      "Epoch : 48 \tError : [194.]\n",
      "Epoch : 49 \tError : [196.]\n",
      "Epoch : 50 \tError : [190.]\n",
      "Epoch : 51 \tError : [190.]\n",
      "Epoch : 52 \tError : [177.]\n",
      "Epoch : 53 \tError : [187.]\n",
      "Epoch : 54 \tError : [196.]\n",
      "Epoch : 55 \tError : [180.]\n",
      "Epoch : 56 \tError : [185.]\n",
      "Epoch : 57 \tError : [193.]\n",
      "Epoch : 58 \tError : [184.]\n",
      "Epoch : 59 \tError : [192.]\n",
      "Epoch : 60 \tError : [194.]\n",
      "Epoch : 61 \tError : [192.]\n",
      "Epoch : 62 \tError : [185.]\n",
      "Epoch : 63 \tError : [187.]\n",
      "Epoch : 64 \tError : [188.]\n",
      "Epoch : 65 \tError : [194.]\n",
      "Epoch : 66 \tError : [174.]\n",
      "Epoch : 67 \tError : [194.]\n",
      "Epoch : 68 \tError : [190.]\n",
      "Epoch : 69 \tError : [187.]\n",
      "Epoch : 70 \tError : [183.]\n",
      "Epoch : 71 \tError : [184.]\n",
      "Epoch : 72 \tError : [188.]\n",
      "Epoch : 73 \tError : [190.]\n",
      "Epoch : 74 \tError : [176.]\n",
      "Epoch : 75 \tError : [193.]\n",
      "Epoch : 76 \tError : [201.]\n",
      "Epoch : 77 \tError : [190.]\n",
      "Epoch : 78 \tError : [189.]\n",
      "Epoch : 79 \tError : [189.]\n",
      "Epoch : 80 \tError : [186.]\n",
      "Epoch : 81 \tError : [179.]\n",
      "Epoch : 82 \tError : [190.]\n",
      "Epoch : 83 \tError : [187.]\n",
      "Epoch : 84 \tError : [190.]\n",
      "Epoch : 85 \tError : [188.]\n",
      "Epoch : 86 \tError : [186.]\n",
      "Epoch : 87 \tError : [191.]\n",
      "Epoch : 88 \tError : [182.]\n",
      "Epoch : 89 \tError : [182.]\n",
      "Epoch : 90 \tError : [182.]\n",
      "Epoch : 91 \tError : [176.]\n",
      "Epoch : 92 \tError : [199.]\n",
      "Epoch : 93 \tError : [192.]\n",
      "Epoch : 94 \tError : [186.]\n",
      "Epoch : 95 \tError : [187.]\n",
      "Epoch : 96 \tError : [189.]\n",
      "Epoch : 97 \tError : [188.]\n",
      "Epoch : 98 \tError : [189.]\n",
      "Epoch : 99 \tError : [183.]\n"
     ]
    }
   ],
   "source": [
    "y = perceptron(x_train, x_test, lrrate, epochs)"
   ]
  },
  {
   "cell_type": "code",
   "execution_count": 18,
   "metadata": {},
   "outputs": [
    {
     "data": {
      "text/plain": [
       "Text(0, 0.5, 'Sum of squared error')"
      ]
     },
     "execution_count": 18,
     "metadata": {},
     "output_type": "execute_result"
    }
   ],
   "source": [
    "from matplotlib import pyplot as plt\n",
    "plt.plot(e,ss)\n",
    "plt.xlabel('Epochs')\n",
    "plt.ylabel('Sum of squared error')"
   ]
  },
  {
   "cell_type": "code",
   "execution_count": 19,
   "metadata": {},
   "outputs": [],
   "source": [
    "def accuracy (pred, actual):\n",
    "    right=0\n",
    "    for i in range(len(pred)):\n",
    "        if pred[i]==actual[i]:        \n",
    "            right = right +1\n",
    "    return right/len(pred) * 100"
   ]
  },
  {
   "cell_type": "code",
   "execution_count": 20,
   "metadata": {},
   "outputs": [
    {
     "data": {
      "text/plain": [
       "152"
      ]
     },
     "execution_count": 20,
     "metadata": {},
     "output_type": "execute_result"
    }
   ],
   "source": [
    "len(y)"
   ]
  },
  {
   "cell_type": "code",
   "execution_count": 21,
   "metadata": {},
   "outputs": [
    {
     "name": "stdout",
     "output_type": "stream",
     "text": [
      "Accuracy : 74.3421052631579\n"
     ]
    }
   ],
   "source": [
    "acc = accuracy(y_test,y)\n",
    "print('Accuracy :', acc)"
   ]
  },
  {
   "cell_type": "code",
   "execution_count": 22,
   "metadata": {},
   "outputs": [],
   "source": [
    "from sklearn.metrics import confusion_matrix\n",
    "from sklearn.metrics import accuracy_score \n",
    "from sklearn.metrics import classification_report"
   ]
  },
  {
   "cell_type": "code",
   "execution_count": 23,
   "metadata": {},
   "outputs": [],
   "source": [
    "cn = confusion_matrix(y_test, y)"
   ]
  },
  {
   "cell_type": "code",
   "execution_count": 24,
   "metadata": {},
   "outputs": [
    {
     "name": "stdout",
     "output_type": "stream",
     "text": [
      "classification report \n",
      "               precision    recall  f1-score   support\n",
      "\n",
      "          -1       0.73      0.48      0.58        56\n",
      "           1       0.75      0.90      0.82        96\n",
      "\n",
      "    accuracy                           0.74       152\n",
      "   macro avg       0.74      0.69      0.70       152\n",
      "weighted avg       0.74      0.74      0.73       152\n",
      "\n"
     ]
    }
   ],
   "source": [
    "print('classification report \\n',classification_report(y_test, y))"
   ]
  },
  {
   "cell_type": "code",
   "execution_count": 25,
   "metadata": {},
   "outputs": [],
   "source": [
    "from sklearn.metrics import precision_recall_fscore_support as sc"
   ]
  },
  {
   "cell_type": "code",
   "execution_count": 26,
   "metadata": {},
   "outputs": [
    {
     "name": "stdout",
     "output_type": "stream",
     "text": [
      "precision for both classes: [0.72972973 0.74782609]\n",
      "recall for both classes: [0.48214286 0.89583333]\n",
      "f1score for both classes: [0.58064516 0.81516588]\n"
     ]
    }
   ],
   "source": [
    "precision,recall,f1,support = sc(y_test, y)\n",
    "print('precision for both classes: {}'.format(precision))\n",
    "print('recall for both classes: {}'.format(recall))\n",
    "print('f1score for both classes: {}'.format(f1))"
   ]
  },
  {
   "cell_type": "markdown",
   "metadata": {},
   "source": [
    "## Method 2"
   ]
  },
  {
   "cell_type": "code",
   "execution_count": 27,
   "metadata": {},
   "outputs": [
    {
     "data": {
      "text/plain": [
       "array([[ 0.31250341],\n",
       "       [ 0.06924874],\n",
       "       [ 0.12640825],\n",
       "       [-0.82846819],\n",
       "       [-0.38354624],\n",
       "       [ 0.19788252],\n",
       "       [ 0.33215257],\n",
       "       [-0.34594529],\n",
       "       [ 0.17787159]])"
      ]
     },
     "execution_count": 27,
     "metadata": {},
     "output_type": "execute_result"
    }
   ],
   "source": [
    "# Xavier initialization\n",
    "np.random.seed(20)\n",
    "w = np.random.randn(9,1)* ((1/8)**0.5)\n",
    "w"
   ]
  },
  {
   "cell_type": "code",
   "execution_count": 28,
   "metadata": {},
   "outputs": [],
   "source": [
    "# predicts output given the rows and weights\n",
    "def pred(row,w):\n",
    "    # The first weight is always the bias\n",
    "    atv = w[0]\n",
    "    for i in range(len(row)):\n",
    "        atv = np.tanh(atv + w[i+1]*row[i])\n",
    "    return 1 if atv>=0 else -1"
   ]
  },
  {
   "cell_type": "code",
   "execution_count": 29,
   "metadata": {},
   "outputs": [],
   "source": [
    "e = []\n",
    "ss= []\n",
    "def train(x_train, lrrate, epochs):\n",
    "    for ep in range(epochs):\n",
    "        global e \n",
    "        global ss\n",
    "        sum_square_error = 0\n",
    "        for row, row1 in zip(x_train,y_train):\n",
    "            prediction = pred(row,w)\n",
    "            error = row1 - prediction\n",
    "            sum_square_error = sum_square_error + ((error/2)**2)\n",
    "            for i in range(len(row)):\n",
    "                der = 1-(np.tanh((w[0] + w[i+1]*row[i])))**2\n",
    "                w[i+1]=w[i+1]+ lrrate*error*row[i]*der\n",
    "            w[0] = w[0] + lrrate*error*der\n",
    "        print('Epoch : {}'.format(ep),'\\tError : {}'.format(sum_square_error))\n",
    "        e.append(ep)\n",
    "        ss.append(sum_square_error)\n",
    "    return w"
   ]
  },
  {
   "cell_type": "code",
   "execution_count": 30,
   "metadata": {},
   "outputs": [],
   "source": [
    "def perceptron(x_train, x_test, lrrate, epochs):\n",
    "    weights=train(x_train, lrrate, epochs)\n",
    "    pred1 = list()\n",
    "    for row in x_test:\n",
    "        predict = pred(row,weights)\n",
    "        pred1.append(predict)\n",
    "    return pred1"
   ]
  },
  {
   "cell_type": "code",
   "execution_count": 31,
   "metadata": {},
   "outputs": [],
   "source": [
    "lrrate = 0.01\n",
    "epochs = 500"
   ]
  },
  {
   "cell_type": "code",
   "execution_count": 32,
   "metadata": {
    "scrolled": true
   },
   "outputs": [
    {
     "name": "stdout",
     "output_type": "stream",
     "text": [
      "Epoch : 0 \tError : [227.]\n",
      "Epoch : 1 \tError : [182.]\n",
      "Epoch : 2 \tError : [170.]\n",
      "Epoch : 3 \tError : [183.]\n",
      "Epoch : 4 \tError : [182.]\n",
      "Epoch : 5 \tError : [189.]\n",
      "Epoch : 6 \tError : [187.]\n",
      "Epoch : 7 \tError : [183.]\n",
      "Epoch : 8 \tError : [184.]\n",
      "Epoch : 9 \tError : [202.]\n",
      "Epoch : 10 \tError : [185.]\n",
      "Epoch : 11 \tError : [188.]\n",
      "Epoch : 12 \tError : [186.]\n",
      "Epoch : 13 \tError : [186.]\n",
      "Epoch : 14 \tError : [185.]\n",
      "Epoch : 15 \tError : [187.]\n",
      "Epoch : 16 \tError : [193.]\n",
      "Epoch : 17 \tError : [184.]\n",
      "Epoch : 18 \tError : [191.]\n",
      "Epoch : 19 \tError : [181.]\n",
      "Epoch : 20 \tError : [201.]\n",
      "Epoch : 21 \tError : [174.]\n",
      "Epoch : 22 \tError : [178.]\n",
      "Epoch : 23 \tError : [182.]\n",
      "Epoch : 24 \tError : [195.]\n",
      "Epoch : 25 \tError : [185.]\n",
      "Epoch : 26 \tError : [203.]\n",
      "Epoch : 27 \tError : [188.]\n",
      "Epoch : 28 \tError : [201.]\n",
      "Epoch : 29 \tError : [184.]\n",
      "Epoch : 30 \tError : [190.]\n",
      "Epoch : 31 \tError : [180.]\n",
      "Epoch : 32 \tError : [181.]\n",
      "Epoch : 33 \tError : [190.]\n",
      "Epoch : 34 \tError : [197.]\n",
      "Epoch : 35 \tError : [175.]\n",
      "Epoch : 36 \tError : [176.]\n",
      "Epoch : 37 \tError : [205.]\n",
      "Epoch : 38 \tError : [186.]\n",
      "Epoch : 39 \tError : [182.]\n",
      "Epoch : 40 \tError : [194.]\n",
      "Epoch : 41 \tError : [190.]\n",
      "Epoch : 42 \tError : [188.]\n",
      "Epoch : 43 \tError : [193.]\n",
      "Epoch : 44 \tError : [193.]\n",
      "Epoch : 45 \tError : [178.]\n",
      "Epoch : 46 \tError : [192.]\n",
      "Epoch : 47 \tError : [182.]\n",
      "Epoch : 48 \tError : [189.]\n",
      "Epoch : 49 \tError : [198.]\n",
      "Epoch : 50 \tError : [184.]\n",
      "Epoch : 51 \tError : [174.]\n",
      "Epoch : 52 \tError : [189.]\n",
      "Epoch : 53 \tError : [182.]\n",
      "Epoch : 54 \tError : [188.]\n",
      "Epoch : 55 \tError : [191.]\n",
      "Epoch : 56 \tError : [187.]\n",
      "Epoch : 57 \tError : [179.]\n",
      "Epoch : 58 \tError : [194.]\n",
      "Epoch : 59 \tError : [187.]\n",
      "Epoch : 60 \tError : [190.]\n",
      "Epoch : 61 \tError : [193.]\n",
      "Epoch : 62 \tError : [184.]\n",
      "Epoch : 63 \tError : [196.]\n",
      "Epoch : 64 \tError : [171.]\n",
      "Epoch : 65 \tError : [185.]\n",
      "Epoch : 66 \tError : [185.]\n",
      "Epoch : 67 \tError : [183.]\n",
      "Epoch : 68 \tError : [190.]\n",
      "Epoch : 69 \tError : [185.]\n",
      "Epoch : 70 \tError : [183.]\n",
      "Epoch : 71 \tError : [185.]\n",
      "Epoch : 72 \tError : [188.]\n",
      "Epoch : 73 \tError : [189.]\n",
      "Epoch : 74 \tError : [177.]\n",
      "Epoch : 75 \tError : [190.]\n",
      "Epoch : 76 \tError : [178.]\n",
      "Epoch : 77 \tError : [178.]\n",
      "Epoch : 78 \tError : [191.]\n",
      "Epoch : 79 \tError : [181.]\n",
      "Epoch : 80 \tError : [185.]\n",
      "Epoch : 81 \tError : [194.]\n",
      "Epoch : 82 \tError : [185.]\n",
      "Epoch : 83 \tError : [185.]\n",
      "Epoch : 84 \tError : [188.]\n",
      "Epoch : 85 \tError : [195.]\n",
      "Epoch : 86 \tError : [181.]\n",
      "Epoch : 87 \tError : [183.]\n",
      "Epoch : 88 \tError : [193.]\n",
      "Epoch : 89 \tError : [187.]\n",
      "Epoch : 90 \tError : [192.]\n",
      "Epoch : 91 \tError : [173.]\n",
      "Epoch : 92 \tError : [185.]\n",
      "Epoch : 93 \tError : [183.]\n",
      "Epoch : 94 \tError : [186.]\n",
      "Epoch : 95 \tError : [190.]\n",
      "Epoch : 96 \tError : [192.]\n",
      "Epoch : 97 \tError : [189.]\n",
      "Epoch : 98 \tError : [189.]\n",
      "Epoch : 99 \tError : [195.]\n",
      "Epoch : 100 \tError : [191.]\n",
      "Epoch : 101 \tError : [185.]\n",
      "Epoch : 102 \tError : [189.]\n",
      "Epoch : 103 \tError : [194.]\n",
      "Epoch : 104 \tError : [184.]\n",
      "Epoch : 105 \tError : [178.]\n",
      "Epoch : 106 \tError : [192.]\n",
      "Epoch : 107 \tError : [189.]\n",
      "Epoch : 108 \tError : [183.]\n",
      "Epoch : 109 \tError : [180.]\n",
      "Epoch : 110 \tError : [186.]\n",
      "Epoch : 111 \tError : [175.]\n",
      "Epoch : 112 \tError : [187.]\n",
      "Epoch : 113 \tError : [183.]\n",
      "Epoch : 114 \tError : [188.]\n",
      "Epoch : 115 \tError : [185.]\n",
      "Epoch : 116 \tError : [196.]\n",
      "Epoch : 117 \tError : [188.]\n",
      "Epoch : 118 \tError : [192.]\n",
      "Epoch : 119 \tError : [184.]\n",
      "Epoch : 120 \tError : [189.]\n",
      "Epoch : 121 \tError : [182.]\n",
      "Epoch : 122 \tError : [190.]\n",
      "Epoch : 123 \tError : [188.]\n",
      "Epoch : 124 \tError : [188.]\n",
      "Epoch : 125 \tError : [188.]\n",
      "Epoch : 126 \tError : [183.]\n",
      "Epoch : 127 \tError : [189.]\n",
      "Epoch : 128 \tError : [179.]\n",
      "Epoch : 129 \tError : [186.]\n",
      "Epoch : 130 \tError : [190.]\n",
      "Epoch : 131 \tError : [175.]\n",
      "Epoch : 132 \tError : [191.]\n",
      "Epoch : 133 \tError : [197.]\n",
      "Epoch : 134 \tError : [169.]\n",
      "Epoch : 135 \tError : [182.]\n",
      "Epoch : 136 \tError : [182.]\n",
      "Epoch : 137 \tError : [184.]\n",
      "Epoch : 138 \tError : [182.]\n",
      "Epoch : 139 \tError : [187.]\n",
      "Epoch : 140 \tError : [196.]\n",
      "Epoch : 141 \tError : [185.]\n",
      "Epoch : 142 \tError : [187.]\n",
      "Epoch : 143 \tError : [183.]\n",
      "Epoch : 144 \tError : [190.]\n",
      "Epoch : 145 \tError : [194.]\n",
      "Epoch : 146 \tError : [188.]\n",
      "Epoch : 147 \tError : [185.]\n",
      "Epoch : 148 \tError : [199.]\n",
      "Epoch : 149 \tError : [191.]\n",
      "Epoch : 150 \tError : [193.]\n",
      "Epoch : 151 \tError : [189.]\n",
      "Epoch : 152 \tError : [198.]\n",
      "Epoch : 153 \tError : [193.]\n",
      "Epoch : 154 \tError : [184.]\n",
      "Epoch : 155 \tError : [183.]\n",
      "Epoch : 156 \tError : [187.]\n",
      "Epoch : 157 \tError : [187.]\n",
      "Epoch : 158 \tError : [176.]\n",
      "Epoch : 159 \tError : [188.]\n",
      "Epoch : 160 \tError : [186.]\n",
      "Epoch : 161 \tError : [184.]\n",
      "Epoch : 162 \tError : [187.]\n",
      "Epoch : 163 \tError : [179.]\n",
      "Epoch : 164 \tError : [190.]\n",
      "Epoch : 165 \tError : [177.]\n",
      "Epoch : 166 \tError : [187.]\n",
      "Epoch : 167 \tError : [175.]\n",
      "Epoch : 168 \tError : [177.]\n",
      "Epoch : 169 \tError : [178.]\n",
      "Epoch : 170 \tError : [189.]\n",
      "Epoch : 171 \tError : [187.]\n",
      "Epoch : 172 \tError : [188.]\n",
      "Epoch : 173 \tError : [188.]\n",
      "Epoch : 174 \tError : [181.]\n",
      "Epoch : 175 \tError : [176.]\n",
      "Epoch : 176 \tError : [180.]\n",
      "Epoch : 177 \tError : [179.]\n",
      "Epoch : 178 \tError : [201.]\n",
      "Epoch : 179 \tError : [184.]\n",
      "Epoch : 180 \tError : [190.]\n",
      "Epoch : 181 \tError : [194.]\n",
      "Epoch : 182 \tError : [204.]\n",
      "Epoch : 183 \tError : [186.]\n",
      "Epoch : 184 \tError : [194.]\n",
      "Epoch : 185 \tError : [188.]\n",
      "Epoch : 186 \tError : [193.]\n",
      "Epoch : 187 \tError : [179.]\n",
      "Epoch : 188 \tError : [184.]\n",
      "Epoch : 189 \tError : [200.]\n",
      "Epoch : 190 \tError : [183.]\n",
      "Epoch : 191 \tError : [181.]\n",
      "Epoch : 192 \tError : [190.]\n",
      "Epoch : 193 \tError : [185.]\n",
      "Epoch : 194 \tError : [185.]\n",
      "Epoch : 195 \tError : [185.]\n",
      "Epoch : 196 \tError : [187.]\n",
      "Epoch : 197 \tError : [190.]\n",
      "Epoch : 198 \tError : [190.]\n",
      "Epoch : 199 \tError : [185.]\n",
      "Epoch : 200 \tError : [189.]\n",
      "Epoch : 201 \tError : [192.]\n",
      "Epoch : 202 \tError : [188.]\n",
      "Epoch : 203 \tError : [183.]\n",
      "Epoch : 204 \tError : [188.]\n",
      "Epoch : 205 \tError : [192.]\n",
      "Epoch : 206 \tError : [190.]\n",
      "Epoch : 207 \tError : [188.]\n",
      "Epoch : 208 \tError : [183.]\n",
      "Epoch : 209 \tError : [191.]\n",
      "Epoch : 210 \tError : [180.]\n",
      "Epoch : 211 \tError : [184.]\n",
      "Epoch : 212 \tError : [180.]\n",
      "Epoch : 213 \tError : [181.]\n",
      "Epoch : 214 \tError : [194.]\n",
      "Epoch : 215 \tError : [188.]\n",
      "Epoch : 216 \tError : [185.]\n",
      "Epoch : 217 \tError : [190.]\n",
      "Epoch : 218 \tError : [195.]\n",
      "Epoch : 219 \tError : [179.]\n",
      "Epoch : 220 \tError : [178.]\n",
      "Epoch : 221 \tError : [196.]\n",
      "Epoch : 222 \tError : [185.]\n",
      "Epoch : 223 \tError : [187.]\n",
      "Epoch : 224 \tError : [188.]\n",
      "Epoch : 225 \tError : [186.]\n",
      "Epoch : 226 \tError : [188.]\n",
      "Epoch : 227 \tError : [190.]\n",
      "Epoch : 228 \tError : [189.]\n",
      "Epoch : 229 \tError : [191.]\n",
      "Epoch : 230 \tError : [199.]\n",
      "Epoch : 231 \tError : [185.]\n",
      "Epoch : 232 \tError : [177.]\n",
      "Epoch : 233 \tError : [193.]\n",
      "Epoch : 234 \tError : [185.]\n",
      "Epoch : 235 \tError : [180.]\n",
      "Epoch : 236 \tError : [186.]\n",
      "Epoch : 237 \tError : [192.]\n",
      "Epoch : 238 \tError : [174.]\n",
      "Epoch : 239 \tError : [188.]\n",
      "Epoch : 240 \tError : [194.]\n",
      "Epoch : 241 \tError : [189.]\n",
      "Epoch : 242 \tError : [191.]\n",
      "Epoch : 243 \tError : [187.]\n",
      "Epoch : 244 \tError : [184.]\n",
      "Epoch : 245 \tError : [191.]\n",
      "Epoch : 246 \tError : [186.]\n",
      "Epoch : 247 \tError : [188.]\n",
      "Epoch : 248 \tError : [184.]\n",
      "Epoch : 249 \tError : [180.]\n",
      "Epoch : 250 \tError : [190.]\n",
      "Epoch : 251 \tError : [175.]\n",
      "Epoch : 252 \tError : [179.]\n",
      "Epoch : 253 \tError : [185.]\n",
      "Epoch : 254 \tError : [189.]\n",
      "Epoch : 255 \tError : [180.]\n",
      "Epoch : 256 \tError : [189.]\n",
      "Epoch : 257 \tError : [184.]\n",
      "Epoch : 258 \tError : [194.]\n",
      "Epoch : 259 \tError : [177.]\n",
      "Epoch : 260 \tError : [192.]\n",
      "Epoch : 261 \tError : [188.]\n",
      "Epoch : 262 \tError : [188.]\n",
      "Epoch : 263 \tError : [187.]\n",
      "Epoch : 264 \tError : [180.]\n",
      "Epoch : 265 \tError : [188.]\n",
      "Epoch : 266 \tError : [192.]\n",
      "Epoch : 267 \tError : [187.]\n",
      "Epoch : 268 \tError : [178.]\n",
      "Epoch : 269 \tError : [191.]\n",
      "Epoch : 270 \tError : [186.]\n",
      "Epoch : 271 \tError : [189.]\n",
      "Epoch : 272 \tError : [184.]\n",
      "Epoch : 273 \tError : [196.]\n",
      "Epoch : 274 \tError : [197.]\n",
      "Epoch : 275 \tError : [188.]\n",
      "Epoch : 276 \tError : [187.]\n",
      "Epoch : 277 \tError : [190.]\n",
      "Epoch : 278 \tError : [195.]\n",
      "Epoch : 279 \tError : [187.]\n",
      "Epoch : 280 \tError : [196.]\n",
      "Epoch : 281 \tError : [191.]\n",
      "Epoch : 282 \tError : [185.]\n",
      "Epoch : 283 \tError : [194.]\n",
      "Epoch : 284 \tError : [192.]\n",
      "Epoch : 285 \tError : [186.]\n",
      "Epoch : 286 \tError : [184.]\n",
      "Epoch : 287 \tError : [188.]\n",
      "Epoch : 288 \tError : [180.]\n",
      "Epoch : 289 \tError : [206.]\n",
      "Epoch : 290 \tError : [178.]\n",
      "Epoch : 291 \tError : [182.]\n",
      "Epoch : 292 \tError : [184.]\n",
      "Epoch : 293 \tError : [187.]\n",
      "Epoch : 294 \tError : [189.]\n",
      "Epoch : 295 \tError : [179.]\n",
      "Epoch : 296 \tError : [184.]\n",
      "Epoch : 297 \tError : [185.]\n",
      "Epoch : 298 \tError : [182.]\n"
     ]
    },
    {
     "name": "stdout",
     "output_type": "stream",
     "text": [
      "Epoch : 299 \tError : [183.]\n",
      "Epoch : 300 \tError : [179.]\n",
      "Epoch : 301 \tError : [200.]\n",
      "Epoch : 302 \tError : [190.]\n",
      "Epoch : 303 \tError : [200.]\n",
      "Epoch : 304 \tError : [186.]\n",
      "Epoch : 305 \tError : [186.]\n",
      "Epoch : 306 \tError : [184.]\n",
      "Epoch : 307 \tError : [188.]\n",
      "Epoch : 308 \tError : [175.]\n",
      "Epoch : 309 \tError : [197.]\n",
      "Epoch : 310 \tError : [196.]\n",
      "Epoch : 311 \tError : [191.]\n",
      "Epoch : 312 \tError : [185.]\n",
      "Epoch : 313 \tError : [182.]\n",
      "Epoch : 314 \tError : [186.]\n",
      "Epoch : 315 \tError : [194.]\n",
      "Epoch : 316 \tError : [190.]\n",
      "Epoch : 317 \tError : [194.]\n",
      "Epoch : 318 \tError : [171.]\n",
      "Epoch : 319 \tError : [191.]\n",
      "Epoch : 320 \tError : [186.]\n",
      "Epoch : 321 \tError : [199.]\n",
      "Epoch : 322 \tError : [192.]\n",
      "Epoch : 323 \tError : [186.]\n",
      "Epoch : 324 \tError : [186.]\n",
      "Epoch : 325 \tError : [179.]\n",
      "Epoch : 326 \tError : [183.]\n",
      "Epoch : 327 \tError : [189.]\n",
      "Epoch : 328 \tError : [182.]\n",
      "Epoch : 329 \tError : [181.]\n",
      "Epoch : 330 \tError : [180.]\n",
      "Epoch : 331 \tError : [182.]\n",
      "Epoch : 332 \tError : [191.]\n",
      "Epoch : 333 \tError : [183.]\n",
      "Epoch : 334 \tError : [174.]\n",
      "Epoch : 335 \tError : [188.]\n",
      "Epoch : 336 \tError : [195.]\n",
      "Epoch : 337 \tError : [195.]\n",
      "Epoch : 338 \tError : [188.]\n",
      "Epoch : 339 \tError : [196.]\n",
      "Epoch : 340 \tError : [189.]\n",
      "Epoch : 341 \tError : [181.]\n",
      "Epoch : 342 \tError : [180.]\n",
      "Epoch : 343 \tError : [184.]\n",
      "Epoch : 344 \tError : [181.]\n",
      "Epoch : 345 \tError : [185.]\n",
      "Epoch : 346 \tError : [187.]\n",
      "Epoch : 347 \tError : [185.]\n",
      "Epoch : 348 \tError : [198.]\n",
      "Epoch : 349 \tError : [192.]\n",
      "Epoch : 350 \tError : [188.]\n",
      "Epoch : 351 \tError : [189.]\n",
      "Epoch : 352 \tError : [192.]\n",
      "Epoch : 353 \tError : [176.]\n",
      "Epoch : 354 \tError : [194.]\n",
      "Epoch : 355 \tError : [187.]\n",
      "Epoch : 356 \tError : [187.]\n",
      "Epoch : 357 \tError : [188.]\n",
      "Epoch : 358 \tError : [188.]\n",
      "Epoch : 359 \tError : [192.]\n",
      "Epoch : 360 \tError : [194.]\n",
      "Epoch : 361 \tError : [175.]\n",
      "Epoch : 362 \tError : [186.]\n",
      "Epoch : 363 \tError : [187.]\n",
      "Epoch : 364 \tError : [177.]\n",
      "Epoch : 365 \tError : [183.]\n",
      "Epoch : 366 \tError : [178.]\n",
      "Epoch : 367 \tError : [195.]\n",
      "Epoch : 368 \tError : [189.]\n",
      "Epoch : 369 \tError : [181.]\n",
      "Epoch : 370 \tError : [194.]\n",
      "Epoch : 371 \tError : [189.]\n",
      "Epoch : 372 \tError : [189.]\n",
      "Epoch : 373 \tError : [196.]\n",
      "Epoch : 374 \tError : [192.]\n",
      "Epoch : 375 \tError : [197.]\n",
      "Epoch : 376 \tError : [181.]\n",
      "Epoch : 377 \tError : [198.]\n",
      "Epoch : 378 \tError : [178.]\n",
      "Epoch : 379 \tError : [190.]\n",
      "Epoch : 380 \tError : [180.]\n",
      "Epoch : 381 \tError : [180.]\n",
      "Epoch : 382 \tError : [187.]\n",
      "Epoch : 383 \tError : [178.]\n",
      "Epoch : 384 \tError : [190.]\n",
      "Epoch : 385 \tError : [188.]\n",
      "Epoch : 386 \tError : [198.]\n",
      "Epoch : 387 \tError : [180.]\n",
      "Epoch : 388 \tError : [186.]\n",
      "Epoch : 389 \tError : [184.]\n",
      "Epoch : 390 \tError : [190.]\n",
      "Epoch : 391 \tError : [188.]\n",
      "Epoch : 392 \tError : [196.]\n",
      "Epoch : 393 \tError : [200.]\n",
      "Epoch : 394 \tError : [181.]\n",
      "Epoch : 395 \tError : [176.]\n",
      "Epoch : 396 \tError : [193.]\n",
      "Epoch : 397 \tError : [173.]\n",
      "Epoch : 398 \tError : [193.]\n",
      "Epoch : 399 \tError : [188.]\n",
      "Epoch : 400 \tError : [190.]\n",
      "Epoch : 401 \tError : [192.]\n",
      "Epoch : 402 \tError : [174.]\n",
      "Epoch : 403 \tError : [190.]\n",
      "Epoch : 404 \tError : [189.]\n",
      "Epoch : 405 \tError : [183.]\n",
      "Epoch : 406 \tError : [187.]\n",
      "Epoch : 407 \tError : [182.]\n",
      "Epoch : 408 \tError : [185.]\n",
      "Epoch : 409 \tError : [181.]\n",
      "Epoch : 410 \tError : [191.]\n",
      "Epoch : 411 \tError : [197.]\n",
      "Epoch : 412 \tError : [180.]\n",
      "Epoch : 413 \tError : [182.]\n",
      "Epoch : 414 \tError : [188.]\n",
      "Epoch : 415 \tError : [180.]\n",
      "Epoch : 416 \tError : [196.]\n",
      "Epoch : 417 \tError : [186.]\n",
      "Epoch : 418 \tError : [183.]\n",
      "Epoch : 419 \tError : [193.]\n",
      "Epoch : 420 \tError : [188.]\n",
      "Epoch : 421 \tError : [188.]\n",
      "Epoch : 422 \tError : [188.]\n",
      "Epoch : 423 \tError : [192.]\n",
      "Epoch : 424 \tError : [182.]\n",
      "Epoch : 425 \tError : [189.]\n",
      "Epoch : 426 \tError : [191.]\n",
      "Epoch : 427 \tError : [195.]\n",
      "Epoch : 428 \tError : [194.]\n",
      "Epoch : 429 \tError : [192.]\n",
      "Epoch : 430 \tError : [172.]\n",
      "Epoch : 431 \tError : [196.]\n",
      "Epoch : 432 \tError : [187.]\n",
      "Epoch : 433 \tError : [190.]\n",
      "Epoch : 434 \tError : [191.]\n",
      "Epoch : 435 \tError : [195.]\n",
      "Epoch : 436 \tError : [193.]\n",
      "Epoch : 437 \tError : [178.]\n",
      "Epoch : 438 \tError : [190.]\n",
      "Epoch : 439 \tError : [184.]\n",
      "Epoch : 440 \tError : [188.]\n",
      "Epoch : 441 \tError : [188.]\n",
      "Epoch : 442 \tError : [179.]\n",
      "Epoch : 443 \tError : [171.]\n",
      "Epoch : 444 \tError : [183.]\n",
      "Epoch : 445 \tError : [184.]\n",
      "Epoch : 446 \tError : [187.]\n",
      "Epoch : 447 \tError : [187.]\n",
      "Epoch : 448 \tError : [195.]\n",
      "Epoch : 449 \tError : [188.]\n",
      "Epoch : 450 \tError : [191.]\n",
      "Epoch : 451 \tError : [191.]\n",
      "Epoch : 452 \tError : [187.]\n",
      "Epoch : 453 \tError : [180.]\n",
      "Epoch : 454 \tError : [199.]\n",
      "Epoch : 455 \tError : [183.]\n",
      "Epoch : 456 \tError : [187.]\n",
      "Epoch : 457 \tError : [181.]\n",
      "Epoch : 458 \tError : [189.]\n",
      "Epoch : 459 \tError : [188.]\n",
      "Epoch : 460 \tError : [191.]\n",
      "Epoch : 461 \tError : [190.]\n",
      "Epoch : 462 \tError : [184.]\n",
      "Epoch : 463 \tError : [191.]\n",
      "Epoch : 464 \tError : [190.]\n",
      "Epoch : 465 \tError : [189.]\n",
      "Epoch : 466 \tError : [197.]\n",
      "Epoch : 467 \tError : [186.]\n",
      "Epoch : 468 \tError : [192.]\n",
      "Epoch : 469 \tError : [190.]\n",
      "Epoch : 470 \tError : [170.]\n",
      "Epoch : 471 \tError : [194.]\n",
      "Epoch : 472 \tError : [189.]\n",
      "Epoch : 473 \tError : [185.]\n",
      "Epoch : 474 \tError : [184.]\n",
      "Epoch : 475 \tError : [189.]\n",
      "Epoch : 476 \tError : [185.]\n",
      "Epoch : 477 \tError : [183.]\n",
      "Epoch : 478 \tError : [188.]\n",
      "Epoch : 479 \tError : [193.]\n",
      "Epoch : 480 \tError : [200.]\n",
      "Epoch : 481 \tError : [184.]\n",
      "Epoch : 482 \tError : [183.]\n",
      "Epoch : 483 \tError : [194.]\n",
      "Epoch : 484 \tError : [188.]\n",
      "Epoch : 485 \tError : [186.]\n",
      "Epoch : 486 \tError : [204.]\n",
      "Epoch : 487 \tError : [188.]\n",
      "Epoch : 488 \tError : [171.]\n",
      "Epoch : 489 \tError : [191.]\n",
      "Epoch : 490 \tError : [191.]\n",
      "Epoch : 491 \tError : [183.]\n",
      "Epoch : 492 \tError : [194.]\n",
      "Epoch : 493 \tError : [184.]\n",
      "Epoch : 494 \tError : [180.]\n",
      "Epoch : 495 \tError : [184.]\n",
      "Epoch : 496 \tError : [181.]\n",
      "Epoch : 497 \tError : [185.]\n",
      "Epoch : 498 \tError : [182.]\n",
      "Epoch : 499 \tError : [188.]\n"
     ]
    }
   ],
   "source": [
    "y = perceptron(x_train, x_test, lrrate, epochs)"
   ]
  },
  {
   "cell_type": "code",
   "execution_count": 33,
   "metadata": {},
   "outputs": [
    {
     "data": {
      "text/plain": [
       "Text(0, 0.5, 'Sum of squared error')"
      ]
     },
     "execution_count": 33,
     "metadata": {},
     "output_type": "execute_result"
    },
    {
     "data": {
      "image/png": "[encoded data removed]",
      "text/plain": [
       "<Figure size 432x288 with 1 Axes>"
      ]
     },
     "metadata": {
      "needs_background": "light"
     },
     "output_type": "display_data"
    }
   ],
   "source": [
    "plt.plot(e,ss)\n",
    "plt.xlabel('Epochs')\n",
    "plt.ylabel('Sum of squared error')"
   ]
  },
  {
   "cell_type": "code",
   "execution_count": 34,
   "metadata": {},
   "outputs": [],
   "source": [
    "def accuracy (pred, actual):\n",
    "    right=0\n",
    "    for i in range(len(pred)):\n",
    "        if pred[i]==actual[i]:        \n",
    "            right = right +1\n",
    "    return right/len(pred) * 100"
   ]
  },
  {
   "cell_type": "code",
   "execution_count": 35,
   "metadata": {},
   "outputs": [
    {
     "name": "stdout",
     "output_type": "stream",
     "text": [
      "Accuracy : 75.6578947368421\n"
     ]
    }
   ],
   "source": [
    "acc = accuracy(y_test,y)\n",
    "print('Accuracy :', acc)"
   ]
  },
  {
   "cell_type": "code",
   "execution_count": 36,
   "metadata": {},
   "outputs": [
    {
     "data": {
      "text/plain": [
       "array([[31, 25],\n",
       "       [12, 84]])"
      ]
     },
     "execution_count": 36,
     "metadata": {},
     "output_type": "execute_result"
    }
   ],
   "source": [
    "cn = confusion_matrix(y_test, y)\n",
    "cn"
   ]
  },
  {
   "cell_type": "code",
   "execution_count": 37,
   "metadata": {},
   "outputs": [
    {
     "name": "stdout",
     "output_type": "stream",
     "text": [
      "classification report \n",
      "               precision    recall  f1-score   support\n",
      "\n",
      "          -1       0.72      0.55      0.63        56\n",
      "           1       0.77      0.88      0.82        96\n",
      "\n",
      "    accuracy                           0.76       152\n",
      "   macro avg       0.75      0.71      0.72       152\n",
      "weighted avg       0.75      0.76      0.75       152\n",
      "\n"
     ]
    }
   ],
   "source": [
    "print('classification report \\n',classification_report(y_test, y))"
   ]
  },
  {
   "cell_type": "code",
   "execution_count": 38,
   "metadata": {},
   "outputs": [
    {
     "name": "stdout",
     "output_type": "stream",
     "text": [
      "precision for both classes: [0.72093023 0.7706422 ]\n",
      "recall for both classes: [0.55357143 0.875     ]\n",
      "f1score for both classes: [0.62626263 0.8195122 ]\n"
     ]
    }
   ],
   "source": [
    "precision,recall,f1,support = sc(y_test, y)\n",
    "print('precision for both classes: {}'.format(precision))\n",
    "print('recall for both classes: {}'.format(recall))\n",
    "print('f1score for both classes: {}'.format(f1))"
   ]
  },
  {
   "cell_type": "markdown",
   "metadata": {},
   "source": [
    "## MLP"
   ]
  },
  {
   "cell_type": "code",
   "execution_count": 66,
   "metadata": {},
   "outputs": [],
   "source": [
    "import keras.models\n",
    "import tensorflow as tf\n",
    "from keras.models import Sequential\n",
    "from keras.layers import Activation, Dense"
   ]
  },
  {
   "cell_type": "code",
   "execution_count": 67,
   "metadata": {},
   "outputs": [],
   "source": [
    "import random \n",
    "random.seed(20)\n",
    "np.random.seed(20)\n",
    "tf.random.set_seed(20)\n",
    "model = Sequential()\n",
    "model.add(Dense(200, input_dim=8, activation='tanh'))\n",
    "model.add(Dense(300, input_dim=8, activation='tanh'))\n",
    "model.add(Dense(1, activation='tanh'))"
   ]
  },
  {
   "cell_type": "code",
   "execution_count": 68,
   "metadata": {},
   "outputs": [],
   "source": [
    "y = pd.DataFrame(df.iloc[:,0])\n",
    "x = df.iloc[:,1:]\n",
    "x = x.to_numpy()\n",
    "y = y.to_numpy()"
   ]
  },
  {
   "cell_type": "code",
   "execution_count": 69,
   "metadata": {},
   "outputs": [],
   "source": [
    "# Split dataset 60:20:20\n",
    "x_train, x_test, y_train, y_test = train_test_split(x,y, test_size=0.2, random_state=20)\n",
    "x_train, x_val, y_train, y_val = train_test_split(x,y, test_size=0.2, random_state=20)"
   ]
  },
  {
   "cell_type": "code",
   "execution_count": 70,
   "metadata": {},
   "outputs": [],
   "source": [
    "model.compile(loss='binary_crossentropy',optimizer='adam',metrics=['accuracy'])\n",
    "hist = model.fit(x_train, y_train, validation_data=(x_val, y_val), epochs=150, verbose=0)"
   ]
  },
  {
   "cell_type": "code",
   "execution_count": 89,
   "metadata": {},
   "outputs": [
    {
     "name": "stdout",
     "output_type": "stream",
     "text": [
      "Train Accuracy :  0.631\n",
      "Test Accuracy :  0.625\n"
     ]
    }
   ],
   "source": [
    "x, train_acc = model.evaluate(x_train, y_train, verbose=0)\n",
    "print('Train Accuracy : ', round(train_acc,4))\n",
    "y, test_acc = model.evaluate(x_test, y_test, verbose=0)\n",
    "print('Test Accuracy : ', round(test_acc,4))"
   ]
  },
  {
   "cell_type": "code",
   "execution_count": 72,
   "metadata": {},
   "outputs": [
    {
     "data": {
      "text/plain": [
       "<matplotlib.legend.Legend at 0x145d805d0>"
      ]
     },
     "execution_count": 72,
     "metadata": {},
     "output_type": "execute_result"
    },
    {
     "data": {
      "image/png": "[encoded data removed]",
      "text/plain": [
       "<Figure size 432x288 with 1 Axes>"
      ]
     },
     "metadata": {
      "needs_background": "light"
     },
     "output_type": "display_data"
    }
   ],
   "source": [
    "plt.title('Loss')\n",
    "plt.plot(hist.history['loss'], label='train')\n",
    "plt.plot(hist.history['val_loss'], label='test')\n",
    "plt.legend()"
   ]
  },
  {
   "cell_type": "code",
   "execution_count": 73,
   "metadata": {
    "scrolled": true
   },
   "outputs": [
    {
     "data": {
      "text/plain": [
       "<matplotlib.legend.Legend at 0x146781710>"
      ]
     },
     "execution_count": 73,
     "metadata": {},
     "output_type": "execute_result"
    },
    {
     "data": {
      "image/png": "[encoded data removed]",
      "text/plain": [
       "<Figure size 432x288 with 1 Axes>"
      ]
     },
     "metadata": {
      "needs_background": "light"
     },
     "output_type": "display_data"
    }
   ],
   "source": [
    "plt.title('Accuracy')\n",
    "plt.plot(hist.history['accuracy'], label='train')\n",
    "plt.plot(hist.history['val_accuracy'], label='test')\n",
    "plt.legend()"
   ]
  },
  {
   "cell_type": "code",
   "execution_count": 80,
   "metadata": {},
   "outputs": [],
   "source": [
    "from sklearn.metrics import precision_score\n",
    "from sklearn.metrics import recall_score\n",
    "from sklearn.metrics import f1_score"
   ]
  },
  {
   "cell_type": "code",
   "execution_count": 90,
   "metadata": {},
   "outputs": [
    {
     "name": "stdout",
     "output_type": "stream",
     "text": [
      "precision : 0.8971\n",
      "recall : 0.6354\n",
      "f1score : 0.7439\n"
     ]
    }
   ],
   "source": [
    "y_pred = model.predict_classes(x_test, verbose=0)\n",
    "y_pred[y_pred == 0] = -1\n",
    "precision = round(precision_score(y_test, y_pred),4)\n",
    "recall = round(recall_score(y_test, y_pred),4)\n",
    "f1 = round(f1_score(y_test, y_pred),4)\n",
    "print('precision : {}'.format(precision))\n",
    "print('recall : {}'.format(recall))\n",
    "print('f1score : {}'.format(f1))"
   ]
  },
  {
   "cell_type": "markdown",
   "metadata": {},
   "source": [
    "# End"
   ]
  }
 ],
 "metadata": {
  "kernelspec": {
   "display_name": "Python 3",
   "language": "python",
   "name": "python3"
  },
  "language_info": {
   "codemirror_mode": {
    "name": "ipython",
    "version": 3
   },
   "file_extension": ".py",
   "mimetype": "text/x-python",
   "name": "python",
   "nbconvert_exporter": "python",
   "pygments_lexer": "ipython3",
   "version": "3.7.4"
  }
 },
 "nbformat": 4,
 "nbformat_minor": 2
}
